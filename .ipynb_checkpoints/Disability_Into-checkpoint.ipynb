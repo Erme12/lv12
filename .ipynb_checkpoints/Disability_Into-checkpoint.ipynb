{
 "cells": [
  {
   "cell_type": "markdown",
   "metadata": {},
   "source": [
    "**1** First one Life $T:(\\Omega,\\mathcal{A},P) \\to \\mathbb{N}$. then we defined various Products such as $A_x$ with $Z = v^K$\n",
    "\n",
    "**2** Used Commutation function to calculate $\\mathbb{E}[Z]$, eg $A_x = \\sum_{k=0}^\\infty {}_kp_x. \\, q_{x+k} \\, v^{k+1} = \\frac{M_x}{D_x}$\n",
    "\n",
    "**3** Characteristic: one person, one decrement"
   ]
  },
  {
   "cell_type": "markdown",
   "metadata": {},
   "source": [
    "**4** Next two extentions, namely multiple decrements and multiple people\n",
    "\n",
    "**5** For example $\\ddot{a}_{xy} = \\sum_{k=0}^\\infty {}_k p_{xy} \\, v^k = \\frac{N_{xy}}{D_{xy}}$\n",
    "\n",
    "**6** Characteristic: We could do it with stopping times (not in the sense of Prob Th 1) in the sense that people die at a certain point in time, and you can paint a stats-space diagram as a tree.\n",
    "\n",
    "**7** $(\\star,\\star) \\to (\\star,\\dagger) \\to (\\dagger,\\dagger)$, and $(\\star,\\star) \\to (\\dagger,\\star) \\to (\\dagger,\\dagger)$ (plus the staying in the state such as $(\\star,\\star) \\to (\\star,\\star)$.\n",
    "\n",
    "**8** Note the above geometrical state-space diagrams allow the use of classical life insurance maths."
   ]
  },
  {
   "cell_type": "markdown",
   "metadata": {},
   "source": [
    "**9** Next we inroduced Markov Chains and the respective modelling, including Chapman-Kolmogorov and Thiele.\n",
    "\n",
    "**10** We also embedded $1 \\dots 7$ in the Markov Model\n",
    "\n",
    "**11** Now we do disability where the tree inerpretation does not hold anymore for sure"
   ]
  },
  {
   "cell_type": "markdown",
   "metadata": {},
   "source": [
    "**DISABILITY INSURANCE**\n",
    "\n",
    "State space consists at least of $S =\\{\\star, \\diamondsuit, \\dagger \\}$, representing \"healty\", \"disabled\" and \"death\". What is different to before is that the chain $\\star \\to \\diamondsuit \\to \\star$ is possible, in consequence traditional life insurance mathematics is very tricky and difficult."
   ]
  },
  {
   "cell_type": "markdown",
   "metadata": {},
   "source": [
    "**1** We call the transition $\\star \\to \\diamondsuit$: becoming disabled\n",
    "\n",
    "**2** We call the transition $\\diamondsuit \\to \\star  $: reactivation\n",
    "    \n",
    "**3** we call the transition $\\star \\to \\dagger$: dying as active\n",
    "    \n",
    "**4** we call the transition $\\diamondsuit \\to \\dagger$: dying as disabled\n",
    "\n",
    "**5** Today Disability is mostly defined in an economical sense, ie how much income is lost as aconsequence of disability. Assume for example a salary of CHF 100k pa. and the person has back pains and can therefore only work in the morning (4 instead of 8 h). This means an income of 50k or a disability ratio of 50%\n",
    "\n",
    "**6** This could mean that we split $\\diamondsuit$ into different states $\\diamondsuit_\\alpha$ where $\\alpha$ is the disability ratio. We could also consider a average disabilty ratio of say $\\alpha = 0.85$"
   ]
  },
  {
   "cell_type": "markdown",
   "metadata": {},
   "source": [
    "**How to calculate?**"
   ]
  },
  {
   "cell_type": "markdown",
   "metadata": {},
   "source": [
    "**1** First Question: Which states do we consider?\n",
    "    \n",
    "**2** How do you consider partial disability?\n",
    "\n",
    "**3** How do you reflect waiting periods?\n",
    "\n",
    "**4** How do you consider reactivation - not at all, depending on time which you have been disabled?"
   ]
  },
  {
   "cell_type": "markdown",
   "metadata": {},
   "source": [
    "**Notation**\n",
    "\n",
    "**1** $i_x^w$ denote the probability of becoming disabled with a waiting period $w$, $p_{\\star,\\diamondsuit}(x,x+1)=i_x^w$\n",
    "\n",
    "**2** $q_x^a$ the mortality for active people $p_{\\star,\\dagger}(x,x+1)=q_x^a$\n",
    "\n",
    "**3** $q_x^i$ the mortality for active people $p_{\\diamondsuit,\\dagger}(x,x+1)=q_x^i$. Typically higher than $q_x^a$\n",
    "\n",
    "**4** $r_x$ this is the reactivation probability as an $x$ year old person. $p_{\\diamondsuit,\\star}(x,x+1)=r_x$. We will see that reactivation probability is materially dependent on $x$ and $t$ the time being diabled. Hence could consider $r(x,t)$\n",
    "\n",
    "**5** If considering $r(x,t)$ we need to adjust the state space accordingly.\n",
    "\n",
    "**6** Note that for a Markov Model we have the following\n",
    "\n",
    "\\begin{eqnarray}\n",
    "\\forall i \\in S: & \\sum_{j\\in S} p_{ij} (x,x+1) =1\n",
    "\\end{eqnarray}"
   ]
  },
  {
   "cell_type": "markdown",
   "metadata": {},
   "source": [
    "**7** We get $p_{\\star,\\star}(x,x+1) = 1 - p_{\\star,\\diamondsuit}(x,x+1) - p_{\\star,\\dagger}(x,x+1) = 1 - q_x^a - i_x^w $\n",
    "\n",
    "**8** We get $p_{\\diamondsuit,\\diamondsuit}(x,x+1) = 1 - p_{\\diamondsuit,\\star}(x,x+1) - p_{\\diamondsuit,\\dagger}(x,x+1) = 1 - q_x^i - r_x$\n",
    "\n",
    "**9** We get $p_{\\dagger,\\dagger}(x,x+1) = 1$"
   ]
  },
  {
   "cell_type": "markdown",
   "metadata": {},
   "source": [
    "**Calculation of Cohorts**\n",
    "\n",
    "**1** Cohort of actives $l_x^a$: $l_0^a=100000$\n",
    "\n",
    "$l_{x+1}^a = l_x^a *(1-i_x - q_x^a) +l_x^i * r_x$\n",
    "\n",
    "**2** Cohort of disabled $l_x^i$: $l_0^a=0$\n",
    "\n",
    "$l_{x+1}^i = l_x^a *i_x +l_x^i * (1- r_x - q_x^i)$\n",
    "\n",
    "**3** Now you can form Commutation functions as per before, namely\n",
    "\n",
    "\\begin{eqnarray}\n",
    "D_x^a &= & l_x^a \\times v^x \\\\\n",
    "D_x^i &= & l_x^i \\times v^x\n",
    "\\end{eqnarray}\n",
    "\n",
    "Ditto you can define the other commutation functions:\n",
    "\n",
    "\\begin{eqnarray}\n",
    "C_x^{a,t} &= & d_x^{a,t} \\times v^{x+1} \\\\\n",
    "d_x^{a,t} &= & l_x^a \\times q_x^a \\\\\n",
    "C_x^{a,i} &= & d_x^{a,i} \\times v^{x+1} \\\\\n",
    "d_x^{a,i} &= & l_x^a \\times i_x \\\\\n",
    "\\end{eqnarray}\n"
   ]
  },
  {
   "cell_type": "markdown",
   "metadata": {},
   "source": [
    "**Reaktivation**\n",
    "\n",
    "\\begin{eqnarray}\n",
    "s_{(x,t)} = q_x + 0.008 + e^{-0.94 \\, t} \\times (c - d \\times x)\n",
    "\\end{eqnarray}\n",
    "\n",
    "Question Half Time?\n",
    "\n",
    "\\begin{eqnarray}\n",
    "\\frac{1}{2} & = & e^{-0.94 \\, T} \\\\\n",
    " T & = & \\frac{\\log(\\frac{1}{2})}{-0.94}\n",
    "\\end{eqnarray}\n",
    "\n"
   ]
  },
  {
   "cell_type": "code",
   "execution_count": 1,
   "metadata": {},
   "outputs": [
    {
     "name": "stdout",
     "output_type": "stream",
     "text": [
      "0.7373906176169631\n",
      "0.5545177444479562\n"
     ]
    }
   ],
   "source": [
    "import math\n",
    "T = math.log(0.5)/-0.94\n",
    "\n",
    "print(T)\n",
    "\n",
    "T = math.log(0.5)/-1.25\n",
    "\n",
    "print(T)"
   ]
  },
  {
   "cell_type": "code",
   "execution_count": 8,
   "metadata": {},
   "outputs": [
    {
     "data": {
      "image/png": "[encoded data removed]",
      "text/plain": [
       "<Figure size 432x288 with 1 Axes>"
      ]
     },
     "metadata": {
      "needs_background": "light"
     },
     "output_type": "display_data"
    }
   ],
   "source": [
    "import matplotlib.pyplot as plt\n",
    "\n",
    "x =[]\n",
    "y1 =[]\n",
    "y2 =[]\n",
    "\n",
    "for i in range(100):\n",
    "    x.append(0.1 * i)\n",
    "    y1.append(math.exp(x[i]*(-0.94)))\n",
    "    y2.append(math.exp(x[i]*(-1.25)))\n",
    "   \n",
    "plt.figure(1)\n",
    "plt.plot(x,y1,x,y2)\n",
    "plt.grid(True)\n",
    "plt.show()"
   ]
  },
  {
   "cell_type": "markdown",
   "metadata": {},
   "source": [
    "**Different Models**\n",
    "\n",
    "$\\ddot{a}_{20}^{ai}$  $\\ddot{a}_{20,0}^{i}$ $\\ddot{a}_{20,2}^{i}$  $\\ddot{a}_{20,4}^{i}$ \n",
    "\n",
    "Markov $n=6$ 3.014\t10.565 22.112 23.799 \n",
    "\n",
    "Markov $n=2$ 3.205\t11.710 24.693 24.059\n",
    "\n",
    "Markov N1R   2.603  7.774 7.834 8.048\n",
    "\n",
    "KT           3.533\t8.499  21.728\n"
   ]
  },
  {
   "cell_type": "code",
   "execution_count": null,
   "metadata": {},
   "outputs": [],
   "source": []
  }
 ],
 "metadata": {
  "kernelspec": {
   "display_name": "Python 3",
   "language": "python",
   "name": "python3"
  },
  "language_info": {
   "codemirror_mode": {
    "name": "ipython",
    "version": 3
   },
   "file_extension": ".py",
   "mimetype": "text/x-python",
   "name": "python",
   "nbconvert_exporter": "python",
   "pygments_lexer": "ipython3",
   "version": "3.6.6+"
  }
 },
 "nbformat": 4,
 "nbformat_minor": 4
}

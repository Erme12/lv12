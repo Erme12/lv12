{
 "cells": [
  {
   "cell_type": "markdown",
   "id": "416ed01f",
   "metadata": {},
   "source": [
    "**Equivalence Principle**\n",
    "\n",
    "- Whole of Life: $A_x$ as a benefit, and $\\ddot{a}_x$ as a premium\n",
    "- Deferred Annuity: ${}_m \\ddot{a}_x$ and $\\ddot{a}_{x:m}$\n",
    "- Mixed Endowment: $A_{x:n}$ and premium $\\ddot{a}_{x:n}$\n",
    "\n",
    "using commutation function. \n",
    "\n",
    "Notes:\n",
    "\n",
    "a) Benefit $1$\n",
    "\n",
    "b) we now $\\Pi = \\frac{PV Benefits}{PV Premium P=1}$"
   ]
  },
  {
   "cell_type": "markdown",
   "id": "bf8a5216",
   "metadata": {},
   "source": [
    "**Whole of Life**\n",
    "\\begin{eqnarray}\n",
    "A_x & = & \\frac{M_x}{D_x} \\\\\n",
    "\\ddot{a}_x &= & \\frac{N_x}{D_x} \\\\[2ex]\n",
    "\\Pi & = & \\frac{M_x}{N_x}\n",
    "\\end{eqnarray}"
   ]
  },
  {
   "cell_type": "markdown",
   "id": "a9ac5b34",
   "metadata": {},
   "source": [
    "**Deferred Annuity**\n",
    "\\begin{eqnarray}\n",
    "{}_m\\ddot{a}_x & = & \\frac{N_{x+m}}{D_x} \\\\\n",
    "\\ddot{a}_{x:m} &= & \\frac{N_x-N_{x+m}}{D_x} \\\\[2ex]\n",
    "\\Pi & = & \\frac{N_{x+m}}{N_x-N_{x+m}}\n",
    "\\end{eqnarray}"
   ]
  },
  {
   "cell_type": "markdown",
   "id": "56133981",
   "metadata": {},
   "source": [
    "**Mixed Endowment**\n",
    "\\begin{eqnarray}\n",
    "A_{x:n} & = & \\frac{M_x-M_{x+n} + D_{x+n}}{D_x} \\\\\n",
    "\\ddot{a}_{x:m} &= & \\frac{N_x-N_{x+m}}{D_x} \\\\[2ex]\n",
    "\\Pi & = & \\frac{M_x-M_{x+n} + D_{x+n}}{N_x-N_{x+m}}\n",
    "\\end{eqnarray}"
   ]
  },
  {
   "cell_type": "code",
   "execution_count": null,
   "id": "b0a0d96c",
   "metadata": {},
   "outputs": [],
   "source": []
  }
 ],
 "metadata": {
  "kernelspec": {
   "display_name": "Python 3 (ipykernel)",
   "language": "python",
   "name": "python3"
  },
  "language_info": {
   "codemirror_mode": {
    "name": "ipython",
    "version": 3
   },
   "file_extension": ".py",
   "mimetype": "text/x-python",
   "name": "python",
   "nbconvert_exporter": "python",
   "pygments_lexer": "ipython3",
   "version": "3.9.7"
  }
 },
 "nbformat": 4,
 "nbformat_minor": 5
}

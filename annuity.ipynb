{
 "cells": [
  {
   "cell_type": "code",
   "execution_count": 3,
   "metadata": {},
   "outputs": [],
   "source": [
    "# This is annuity insurance on one insured life\n",
    "#\n",
    "# Re Comments: Fist look at capital and comments there\n",
    "# Here we add only incremental comments\n",
    "#\n",
    "\n",
    "\n",
    "import math\n",
    "import numpy as np\n",
    "\n",
    "filename = \"EK95.txt\"\n",
    "#EKMF95 = np.loadtxt(filename, skiprows=0)\n",
    "\n",
    "#print(EKMF95[20,:])\n",
    "\n",
    "def QxEK95(gender,x,t,param =[]):\n",
    "    return(Qx(gender,x,t,param =param))\n",
    "\n",
    "def Qx(gender,x,t,param =[]):\n",
    "    # This is our default mortality q(x,t) = exp(a+bx+cx^2+d t)\n",
    "    if gender == 0:\n",
    "        a =[2.34544649e+01,8.70547812e-02,7.50884047e-05,-1.67917935e-02]\n",
    "    else:\n",
    "        a =[2.66163571e+01,8.60317509e-02,2.56738012e-04,-1.91632675e-02]\n",
    "    return(np.exp(a[0]+(a[1]+a[2]*x)*x+a[3]*t))\n",
    "\n",
    "def QxNoReduction(gender,x,t,param =[]):\n",
    "    # This is our default mortality\n",
    "    t = 2015\n",
    "    if gender == 0:\n",
    "        a =[2.34544649e+01,8.70547812e-02,7.50884047e-05,-1.67917935e-02]\n",
    "    else:\n",
    "        a =[2.66163571e+01,8.60317509e-02,2.56738012e-04,-1.91632675e-02]\n",
    "    return(np.exp(a[0]+(a[1]+a[2]*x)*x+a[3]*t))\n",
    "\n",
    "def QxMedieval(gender,x,t,param =[]):\n",
    "    a=-9.13275\n",
    "    b= 8.09432e-2\n",
    "    c= -1.1018e-5\n",
    "    value=math.exp(a+(b+c*x)*x)\n",
    "    alpha = 7.26502413\n",
    "    beta = 0.01342065\n",
    "    return(max(0,min(1,alpha*value+beta)))\n",
    "\n",
    "def ConstantBenefit(x,param=[]):\n",
    "    return(1.)\n",
    "\n",
    "def ZeroBenefit(x,param=[]):\n",
    "    return(0.)\n",
    "\n",
    "def ExpBenefit(x,param=[]):\n",
    "    x0 = param[0] # age at inception of the policy\n",
    "    alpha = param[1] # alpha in the script\n",
    "    return((1+alpha)**(x-x0))\n",
    "\n",
    "def DeferredBenefit(x,param=[]):\n",
    "    x0 = param[0] # age at which defferred annuity starts x0 = x + m\n",
    "    if x<x0:\n",
    "        return(0.)\n",
    "    return(1.)\n",
    "\n",
    "def DeferredInflationBenefit(x,param=[]):\n",
    "    x0 = param[0]\n",
    "    alpha = param[1]\n",
    "    s=param[2]\n",
    "    if(x<s): return(0.)\n",
    "    return((1+alpha)**(x-x0))"
   ]
  },
  {
   "cell_type": "code",
   "execution_count": 4,
   "metadata": {},
   "outputs": [],
   "source": [
    "import numpy as np\n",
    "import matplotlib.pyplot as plt\n",
    "\n",
    "class Annuity:\n",
    "    def __init__(self,Qx,i=0.02,omega=110,t0 = 2020):\n",
    "        self.dIrate = i\n",
    "        self.nOmega = omega\n",
    "        self.psymB = ConstantBenefit\n",
    "        self.psymQx = Qx\n",
    "        self.dV = 1. /(1+self.dIrate)\n",
    "        self.nT0 = t0\n",
    "        \n",
    "    def CommFu(self,gender,x,symbol):\n",
    "        # Allowable symbnols l, D, N, S, C, M, R\n",
    "        if symbol == \"l\":\n",
    "            l = 100000.\n",
    "            px = 1.\n",
    "            for i in range(x):\n",
    "                t = self.nT0 + i\n",
    "                qx = self.psymQx(gender,i,t) \n",
    "                px *= (1-qx)\n",
    "            return(l * px)\n",
    "        if symbol == \"D\":\n",
    "            return(self.CommFu(gender,x,\"l\")*self.dV**x)\n",
    "        if symbol == \"C\":\n",
    "            return((self.CommFu(gender,x,\"l\")-self.CommFu(gender,x+1,\"l\"))*self.dV**(x+1))\n",
    "        if symbol == \"N\":\n",
    "            sum = 0 \n",
    "            for i in range(x,self.nOmega):\n",
    "                sum += self.CommFu(gender,i,\"D\")\n",
    "            return(sum)\n",
    "        if symbol == \"S\":\n",
    "            sum = 0 \n",
    "            for i in range(x,self.nOmega):\n",
    "                sum += self.CommFu(gender,i,\"N\")\n",
    "            return(sum)\n",
    "        if symbol == \"M\":\n",
    "            sum = 0 \n",
    "            for i in range(x,self.nOmega):\n",
    "                sum += self.CommFu(gender,i,\"C\")\n",
    "            return(sum)\n",
    "        if symbol == \"R\":\n",
    "            sum = 0 \n",
    "            for i in range(x,self.nOmega):\n",
    "                sum += self.CommFu(gender,i,\"M\")\n",
    "            return(sum)\n",
    "        return(\"Error\")\n",
    "        \n",
    "    def CalcPV(self,gender,x,s,param=[]):\n",
    "        PV = 0\n",
    "        n  = s-x\n",
    "        for i in range(s-1,x-1,-1):\n",
    "            t = self.nT0 + i - x\n",
    "            qx = self.psymQx(gender,i,t)\n",
    "            px = 1. - qx\n",
    "            PV = self.psymB(i,param=param) + px * self.dV * PV # a_x = 1 + p_x v a_{x+1}\n",
    "        return(PV)\n",
    "    \n",
    "    def CalcCF(self,gender,x,s,periods = 50,param=[]):\n",
    "        CF = np.zeros(periods)\n",
    "        px = 1\n",
    "        for i in range(x,s):\n",
    "            t = self.nT0 + i - x\n",
    "            qx = self.psymQx(gender,i,t)\n",
    "            n = i - x\n",
    "            if n >= periods:\n",
    "                break\n",
    "            CF[n] = px  * self.psymB(i,param=param)\n",
    "            px *= (1-qx)\n",
    "            #print(i, px, qx)\n",
    "            \n",
    "        return(CF)\n",
    "        "
   ]
  },
  {
   "cell_type": "markdown",
   "metadata": {},
   "source": [
    "***Task***\n",
    "\n",
    "Calculate:\n",
    "\n",
    "Immediate Annuity ($\\ddot{a}_x)$, Temporary Annuity ($\\ddot{a}_{x:n}$) and Deferred Annuity (${}_m\\ddot{a}_x$) for\n",
    "\n",
    "x=30\n",
    "s=65\n",
    "n=m=65-30\n",
    "\n",
    "Both via Recursion and Commutation Functions"
   ]
  },
  {
   "cell_type": "code",
   "execution_count": 5,
   "metadata": {},
   "outputs": [
    {
     "name": "stdout",
     "output_type": "stream",
     "text": [
      "Comment: we using no generational table, since this is very tricky \n",
      "with commutation functions!\n",
      "------------------------------ \n",
      " \n",
      "\n",
      "Dx      54961.4\n",
      "Nx    1752876.8\n",
      "Ns     384321.7\n"
     ]
    }
   ],
   "source": [
    "aex=Annuity(QxNoReduction)\n",
    "\n",
    "aexGT=Annuity(Qx)\n",
    "\n",
    "print(\"Comment: we using no generational table, since this is very tricky \\nwith commutation functions!\")\n",
    "print(\"------------------------------ \\n \\n\")\n",
    "x=30\n",
    "s=65\n",
    "n=s-x\n",
    "m=s-x\n",
    "gender= 0\n",
    "\n",
    "Dx = aex.CommFu(gender,x,\"D\")\n",
    "Nx = aex.CommFu(gender,x,\"N\")\n",
    "Ns = aex.CommFu(gender,s,\"N\")\n",
    "\n",
    "print(\"Dx %12.1f\"%(Dx))\n",
    "print(\"Nx %12.1f\"%(Nx))\n",
    "print(\"Ns %12.1f\"%(Ns))\n",
    "\n",
    "DxGT = aexGT.CommFu(gender,x,\"D\")\n",
    "NxGT = aexGT.CommFu(gender,x,\"N\")\n",
    "NsGT = aexGT.CommFu(gender,s,\"N\")"
   ]
  },
  {
   "cell_type": "code",
   "execution_count": 6,
   "metadata": {},
   "outputs": [
    {
     "name": "stdout",
     "output_type": "stream",
     "text": [
      "Immediate Annuity Nx/Dx\n",
      "\n",
      "\n",
      "KF    31.8929  Recursion    31.8929\n",
      "Difference     0.0000  Rel Error 1.1140e-16\n",
      "\n",
      "Now look how this works with GT\n",
      "\n",
      "KF    36.4596  Recursion    34.7757\n",
      "Difference     1.6839  Rel Error 4.8422e-02\n",
      "\n",
      "*** ERROR due to D(x) beeing D(x,t) etc ***\n",
      "--> Homework: fix it\n",
      "What is life expectancy? a_x where people are paid in the middle pf year w/o discounted\n",
      "Life Expectancy for an 0 year olf 80.46 and 94.87\n"
     ]
    }
   ],
   "source": [
    "print(\"Immediate Annuity Nx/Dx\\n\\n\")\n",
    "dValKF = Nx/Dx\n",
    "dValueRec= aex.CalcPV(gender,x,110,param=[s])\n",
    "print(\"KF %10.4f  Recursion %10.4f\"%(dValKF,dValueRec))\n",
    "print(\"Difference %10.4f  Rel Error %8.4e\"%(dValKF-dValueRec, (dValKF-dValueRec)/dValueRec))\n",
    "\n",
    "print(\"\\nNow look how this works with GT\\n\")\n",
    "\n",
    "dValKF = NxGT/DxGT\n",
    "dValueRec= aexGT.CalcPV(gender,x,110,param=[])\n",
    "print(\"KF %10.4f  Recursion %10.4f\"%(dValKF,dValueRec))\n",
    "print(\"Difference %10.4f  Rel Error %8.4e\"%(dValKF-dValueRec, (dValKF-dValueRec)/dValueRec))\n",
    "\n",
    "print(\"\\n*** ERROR due to D(x) beeing D(x,t) etc ***\")\n",
    "print(\"--> Homework: fix it\")\n",
    "\n",
    "print(\"What is life expectancy? a_x where people are paid in the middle pf year w/o discounted\")\n",
    "\n",
    "xEx = 0\n",
    "ex=Annuity(QxNoReduction,i=0)\n",
    "exGT=Annuity(Qx,i=0)\n",
    "\n",
    "exNoGT = ex.CalcPV(gender,xEx,110,param=[s]) -0.5 \n",
    "exGT = exGT.CalcPV(gender,xEx,110,param=[s]) -0.5\n",
    "\n",
    "print(\"Life Expectancy for an %d year olf %.2f and %.2f\"%(xEx,exNoGT,exGT))\n"
   ]
  },
  {
   "cell_type": "code",
   "execution_count": 7,
   "metadata": {},
   "outputs": [
    {
     "name": "stdout",
     "output_type": "stream",
     "text": [
      "Deferred Annuity Ns/Dx\n",
      "\n",
      "KF     6.9926  Recursion     6.9926\n",
      "Difference    -0.0000  Rel Error -3.8105e-16\n",
      "\n",
      "What is the price for an annuity of 42000.0\n",
      "\n",
      " Required Single Premium 293688.0518724152\n",
      "\n",
      " EE pa 8391.09\n",
      "in Pct Sal 11.99\n",
      "Employee pays 50 pct\n",
      "Net Salary 65804.45640182264\n",
      "W GT\n",
      "\n",
      "What is the price for an annuity of 42000.0\n",
      "\n",
      " Required Single Premium 407313.31877939793\n",
      "\n",
      " EE pa 11637.52\n",
      "in Pct Sal 16.63\n",
      "Employee pays 50 pct\n",
      "Net Salary 64181.23830315146\n"
     ]
    }
   ],
   "source": [
    "print(\"Deferred Annuity Ns/Dx\\n\")\n",
    "\n",
    "Dx = aex.CommFu(gender,x,\"D\")\n",
    "Nx = aex.CommFu(gender,x,\"N\")\n",
    "Ns = aex.CommFu(gender,s,\"N\")\n",
    "\n",
    "dValKF = Ns/Dx\n",
    "aex.psymB= DeferredBenefit\n",
    "dValueRec= aex.CalcPV(gender,x,110,param=[s])\n",
    "\n",
    "print(\"KF %10.4f  Recursion %10.4f\"%(dValKF,dValueRec))\n",
    "print(\"Difference %10.4f  Rel Error %8.4e\"%(dValKF-dValueRec, (dValKF-dValueRec)/dValueRec))\n",
    "\n",
    "Sal = 70000.\n",
    "R = 0.6*Sal\n",
    "\n",
    "print(\"\\nWhat is the price for an annuity of\", R)\n",
    "\n",
    "EE = R * dValueRec\n",
    "print(\"\\n Required Single Premium\",EE)\n",
    "EE_per_Annum = EE / n\n",
    "EE_pa_per_Sal = EE_per_Annum / Sal\n",
    "print(\"\\n EE pa %.2f\"%(EE_per_Annum))\n",
    "print(\"in Pct Sal %.2f\"%(100*EE_pa_per_Sal ))\n",
    "\n",
    "print(\"Employee pays 50 pct\")\n",
    "print(\"Net Salary\", Sal - 0.5*EE_per_Annum)\n",
    "\n",
    "print(\"W GT\")\n",
    "\n",
    "aexGT.psymB= DeferredBenefit\n",
    "dValueRec= aexGT.CalcPV(gender,x,110,param=[s])\n",
    "\n",
    "\n",
    "print(\"\\nWhat is the price for an annuity of\", R)\n",
    "\n",
    "EE = R * dValueRec\n",
    "print(\"\\n Required Single Premium\",EE)\n",
    "EE_per_Annum = EE / n\n",
    "EE_pa_per_Sal = EE_per_Annum / Sal\n",
    "print(\"\\n EE pa %.2f\"%(EE_per_Annum))\n",
    "print(\"in Pct Sal %.2f\"%(100*EE_pa_per_Sal ))\n",
    "\n",
    "print(\"Employee pays 50 pct\")\n",
    "print(\"Net Salary\", Sal - 0.5*EE_per_Annum)"
   ]
  },
  {
   "cell_type": "code",
   "execution_count": 6,
   "metadata": {},
   "outputs": [
    {
     "name": "stdout",
     "output_type": "stream",
     "text": [
      "Temp Annuity (Nx-Ns)/Dx\n",
      "\n",
      "KF    24.9003  Recursion    24.9003\n",
      "Difference     0.0000  Rel Error 1.4268e-16\n",
      "Recursion    25.0778\n",
      "Recursion    25.4986\n",
      "Recursion    34.3061\n",
      "Recursion    35.0000\n"
     ]
    }
   ],
   "source": [
    "print(\"Temp Annuity (Nx-Ns)/Dx\\n\")\n",
    "\n",
    "dValKF = (Nx-Ns)/Dx\n",
    "aex.psymB= ConstantBenefit\n",
    "dValueRec= aex.CalcPV(gender,x,s,param=[s])\n",
    "\n",
    "print(\"KF %10.4f  Recursion %10.4f\"%(dValKF,dValueRec))\n",
    "print(\"Difference %10.4f  Rel Error %8.4e\"%(dValKF-dValueRec, (dValKF-dValueRec)/dValueRec))\n",
    "\n",
    "\n",
    "def QxNo(gender,x,t,param =[]):\n",
    "    return(0.)\n",
    "\n",
    "aeT_m_i = Annuity(Qx)\n",
    "aeT_nm_i = Annuity(QxNo)\n",
    "aeT_m_ni = Annuity(Qx,i=0)\n",
    "aeT_nm_ni = Annuity(QxNo,i=0)\n",
    "\n",
    "allPoss = [aeT_m_i,aeT_nm_i,aeT_m_ni,aeT_nm_ni]\n",
    "\n",
    "for i in allPoss:\n",
    "    dValueRec= i.CalcPV(gender,x,s,param=[s])\n",
    "    print(\"Recursion %10.4f\"%(dValueRec))\n",
    "\n"
   ]
  },
  {
   "cell_type": "code",
   "execution_count": 7,
   "metadata": {},
   "outputs": [
    {
     "data": {
      "image/png": "[encoded data removed]",
      "text/plain": [
       "<Figure size 432x288 with 1 Axes>"
      ]
     },
     "metadata": {
      "needs_background": "light"
     },
     "output_type": "display_data"
    },
    {
     "data": {
      "image/png": "[encoded data removed]",
      "text/plain": [
       "<Figure size 432x288 with 1 Axes>"
      ]
     },
     "metadata": {
      "needs_background": "light"
     },
     "output_type": "display_data"
    }
   ],
   "source": [
    "aex=Annuity(QxNoReduction)\n",
    "aexGT=Annuity(Qx)\n",
    "aext=Annuity(QxNoReduction)\n",
    "aexd=Annuity(QxNoReduction)\n",
    "aexd.psymB= DeferredBenefit\n",
    "\n",
    "gender = 0\n",
    "x= 40\n",
    "s= 65\n",
    "omega = 110\n",
    "\n",
    "CFaex = aex.CalcCF(gender,x,omega,periods = 50,param=[])\n",
    "CFaexGT = aexGT.CalcCF(gender,x,omega,periods = 50,param=[])\n",
    "CFaext = aext.CalcCF(gender,x,s,periods = 50,param=[s])\n",
    "CFaexd = aexd.CalcCF(gender,x,omega,periods = 50,param=[s])\n",
    "\n",
    "plt.figure(1)\n",
    "plt.plot(range(len(CFaex)), CFaex,range(len(CFaext)), CFaext,range(len(CFaexd)), CFaexd)\n",
    "plt.grid(True)\n",
    "\n",
    "plt.figure(2)\n",
    "plt.plot(range(len(CFaex)), CFaex,range(len(CFaexGT)), CFaexGT)\n",
    "plt.grid(True)\n",
    "\n",
    "\n"
   ]
  },
  {
   "cell_type": "code",
   "execution_count": 8,
   "metadata": {},
   "outputs": [
    {
     "name": "stdout",
     "output_type": "stream",
     "text": [
      "Immediate Annuity increasing 2% pa  (Nx-Ns)/Dx\n",
      "\n",
      "Immediate Annuity Nx/Dx\n",
      "\n",
      "\n",
      "KF    41.5489  Recursion    41.5489\n",
      "Difference     0.0000  Rel Error 0.0000e+00\n"
     ]
    }
   ],
   "source": [
    "print(\"Immediate Annuity increasing 2% pa  (Nx-Ns)/Dx\\n\")\n",
    "\n",
    "aexNewI=Annuity(QxNoReduction, i=0.)\n",
    "\n",
    "DxNewI = aexNewI.CommFu(gender,x,\"D\")\n",
    "NxNewI = aexNewI.CommFu(gender,x,\"N\")\n",
    "NsNewI = aexNewI.CommFu(gender,s,\"N\")\n",
    "\n",
    "aex.psymB = ExpBenefit\n",
    "\n",
    "print(\"Immediate Annuity Nx/Dx\\n\\n\")\n",
    "dValKF = NxNewI/DxNewI\n",
    "dValueRec= aex.CalcPV(gender,x,110,param=[x,0.02])\n",
    "print(\"KF %10.4f  Recursion %10.4f\"%(dValKF,dValueRec))\n",
    "print(\"Difference %10.4f  Rel Error %8.4e\"%(dValKF-dValueRec, (dValKF-dValueRec)/dValueRec))\n"
   ]
  },
  {
   "cell_type": "markdown",
   "metadata": {},
   "source": [
    "How does inflation impact the price of a deferred annuity\n",
    "\n",
    "inflation rates = 0 - 5 pct in 0.5% increases\n",
    "\n",
    "Want to see the annual approx premium in Sal"
   ]
  },
  {
   "cell_type": "code",
   "execution_count": 10,
   "metadata": {},
   "outputs": [
    {
     "name": "stdout",
     "output_type": "stream",
     "text": [
      "Deferred Annuity Ns/Dx\n",
      "\n",
      "Inflation 0.00, in Pct Sal 14.72\n",
      "Inflation 0.50, in Pct Sal 17.53\n",
      "Inflation 1.00, in Pct Sal 20.90\n",
      "Inflation 1.50, in Pct Sal 24.92\n",
      "Inflation 2.00, in Pct Sal 29.74\n",
      "Inflation 2.50, in Pct Sal 35.52\n",
      "Inflation 3.00, in Pct Sal 42.45\n",
      "Inflation 3.50, in Pct Sal 50.77\n",
      "Inflation 4.00, in Pct Sal 60.75\n",
      "Inflation 4.50, in Pct Sal 72.76\n"
     ]
    },
    {
     "data": {
      "image/png": "[encoded data removed]",
      "text/plain": [
       "<Figure size 432x288 with 1 Axes>"
      ]
     },
     "metadata": {
      "needs_background": "light"
     },
     "output_type": "display_data"
    }
   ],
   "source": [
    "print(\"Deferred Annuity Ns/Dx\\n\")\n",
    "\n",
    "InflationRates = np.arange(0.,0.05,0.005)\n",
    "\n",
    "aex.psymB = DeferredInflationBenefit \n",
    "y=[]\n",
    "\n",
    "for myInfl in InflationRates:\n",
    "    Sal = 70000.\n",
    "    R = 0.6*Sal\n",
    "    dValueRec = aex.CalcPV(gender,x,110,param=[x,myInfl,s])\n",
    "    y.append(dValueRec)\n",
    "#print(\"\\nWhat is the price for an annuity of\", R)\n",
    "    EE = R * dValueRec\n",
    "#print(\"\\n Required Single Premium\",EE)\n",
    "    EE_per_Annum = EE / n\n",
    "    EE_pa_per_Sal = EE_per_Annum / Sal\n",
    "#print(\"\\n EE pa %.2f\"%(EE_per_Annum))\n",
    "    print(\"Inflation %.2f, in Pct Sal %.2f\"%(100*myInfl, 100*EE_pa_per_Sal ))\n",
    "\n",
    "#print(\"Employee pays 50 pct\")\n",
    "#print(\"Net Salary\", Sal - 0.5*EE_per_Annum)\n",
    "\n",
    "plt.figure(1)\n",
    "plt.plot(InflationRates,y)\n",
    "plt.grid(True)"
   ]
  },
  {
   "cell_type": "code",
   "execution_count": 11,
   "metadata": {},
   "outputs": [
    {
     "name": "stdout",
     "output_type": "stream",
     "text": [
      "60 18.33420419892628\n",
      "61 17.815233848867393\n",
      "62 17.295123420713086\n",
      "63 16.774363837344332\n",
      "64 16.253469989708076\n",
      "65 15.73297985575209\n",
      "66 15.21345336312468\n",
      "67 14.695470980821314\n",
      "68 14.179632027225983\n",
      "69 13.66655268484353\n",
      "SP for 65.25?\n",
      "15.603098232595237\n"
     ]
    }
   ],
   "source": [
    "aex.psymB=ConstantBenefit\n",
    "for i in range(60,70):\n",
    "    print(i,aex.CalcPV(gender,i,110,param=[s]))\n",
    "    \n",
    "print(\"SP for 65.25?\")\n",
    "alpha = 0.25\n",
    "EE = (1-alpha) * aex.CalcPV(gender,65,110,param=[s]) + alpha * aex.CalcPV(gender,66,110,param=[s])\n",
    "print(EE)"
   ]
  },
  {
   "cell_type": "code",
   "execution_count": 12,
   "metadata": {},
   "outputs": [
    {
     "name": "stdout",
     "output_type": "stream",
     "text": [
      "How does the PV depend on interest rates\n",
      "Calculate PV for different interest rates\n"
     ]
    },
    {
     "data": {
      "image/png": "[encoded data removed]",
      "text/plain": [
       "<Figure size 432x288 with 1 Axes>"
      ]
     },
     "metadata": {
      "needs_background": "light"
     },
     "output_type": "display_data"
    },
    {
     "data": {
      "image/png": "[encoded data removed]",
      "text/plain": [
       "<Figure size 432x288 with 1 Axes>"
      ]
     },
     "metadata": {
      "needs_background": "light"
     },
     "output_type": "display_data"
    }
   ],
   "source": [
    "import numpy as np\n",
    "print(\"How does the PV depend on interest rates\")\n",
    "x= 30\n",
    "R = 40000\n",
    "s = 65\n",
    "gender = 1\n",
    "print(\"Calculate PV for different interest rates\")\n",
    "\n",
    "InterestRates = np.arange(0.,0.10,0.005)\n",
    "xI  = []\n",
    "yAex = []\n",
    "yAexd = []\n",
    "\n",
    "for iRate in InterestRates:\n",
    "    xI.append(iRate)\n",
    "    aex = Annuity(Qx,i=iRate)\n",
    "    yAex.append(aex.CalcPV(gender,x,110)*R)\n",
    "    aex.psymB= DeferredBenefit\n",
    "    yAexd.append(aex.CalcPV(gender,x,110,param=[s])*R)\n",
    "    \n",
    "plt.figure(1)\n",
    "plt.plot(xI,yAex,xI,yAexd)\n",
    "plt.grid(True)\n",
    "\n",
    "yAexR = []\n",
    "yAexdR = []\n",
    "refIndex = 4 #ie 2%\n",
    "\n",
    "for i in range(len(yAex)):\n",
    "    yAexR.append((yAex[i]-yAex[refIndex])/yAex[refIndex]*100)\n",
    "    yAexdR.append((yAexd[i]-yAexd[refIndex])/yAexd[refIndex]*100)\n",
    "    \n",
    "plt.figure(2)\n",
    "plt.plot(xI,yAexR,xI,yAexdR)\n",
    "plt.ylabel(\"Change in Pct\")\n",
    "plt.xlabel(\"Interst Rate\")\n",
    "plt.grid(True)\n",
    "\n",
    "\n",
    "    \n",
    "    \n"
   ]
  },
  {
   "cell_type": "code",
   "execution_count": null,
   "metadata": {},
   "outputs": [],
   "source": []
  }
 ],
 "metadata": {
  "kernelspec": {
   "display_name": "Python 3 (ipykernel)",
   "language": "python",
   "name": "python3"
  },
  "language_info": {
   "codemirror_mode": {
    "name": "ipython",
    "version": 3
   },
   "file_extension": ".py",
   "mimetype": "text/x-python",
   "name": "python",
   "nbconvert_exporter": "python",
   "pygments_lexer": "ipython3",
   "version": "3.9.7"
  }
 },
 "nbformat": 4,
 "nbformat_minor": 4
}

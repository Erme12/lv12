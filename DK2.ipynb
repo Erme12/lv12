{
 "cells": [
  {
   "cell_type": "code",
   "execution_count": 3,
   "metadata": {},
   "outputs": [],
   "source": [
    "# These are the caclulation for benefist and reserves on two lifes\n",
    "# Essentially we use the identical approach as for one person\n",
    "# The main change is the need to update the recursion for reserves to two people\n",
    "#  Structurally we now have everything for two people\n",
    "#  Theory see below\n",
    "\n",
    "import math\n",
    "import numpy as np\n",
    "\n",
    "filename = \"EK95.txt\"\n",
    "EKMF95 = np.loadtxt(filename, skiprows=0)\n",
    "\n",
    "#print(EKMF95[20,:])\n",
    "\n",
    "def QxEK95(gender,x,t,param =[]):\n",
    "    return(EKMF95[x,gender+1])\n",
    "\n",
    "def Qx(gender,x,t,param =[]):\n",
    "    # This is our default mortality\n",
    "    if gender == 0:\n",
    "        a =[2.34544649e+01,8.70547812e-02,7.50884047e-05,-1.67917935e-02]\n",
    "    else:\n",
    "        a =[2.66163571e+01,8.60317509e-02,2.56738012e-04,-1.91632675e-02]\n",
    "    return(np.exp(a[0]+(a[1]+a[2]*x)*x+a[3]*t))\n",
    "\n",
    "def QxNoReduction(gender,x,t,param =[]):\n",
    "    # This is our default mortality\n",
    "    t = 2015\n",
    "    if gender == 0:\n",
    "        a =[2.34544649e+01,8.70547812e-02,7.50884047e-05,-1.67917935e-02]\n",
    "    else:\n",
    "        a =[2.66163571e+01,8.60317509e-02,2.56738012e-04,-1.91632675e-02]\n",
    "    return(np.exp(a[0]+(a[1]+a[2]*x)*x+a[3]*t))\n",
    "\n",
    "def QxMedieval(gender,x,t,param =[]):\n",
    "    a=-9.13275\n",
    "    b= 8.09432e-2\n",
    "    c= -1.1018e-5\n",
    "    value=math.exp(a+(b+c*x)*x)\n",
    "    alpha = 7.26502413\n",
    "    beta = 0.01342065\n",
    "    return(max(0,min(1,alpha*value+beta)))\n",
    "\n",
    "def ConstantBenefit(x,param=[]):\n",
    "    return(1.)\n",
    "\n",
    "def ZeroBenefit(x,param=[]):\n",
    "    return(0.)\n",
    "\n",
    "def ExpBenefit(x,param=[]):\n",
    "    x0 = param[0]\n",
    "    alpha = param[1]\n",
    "    return((1+alpha)**(x-x0))\n",
    "\n",
    "def DeferredBenefit(x,param=[]):\n",
    "    x0 = param[0]\n",
    "    if x>= x0: return(1)\n",
    "    return(0)"
   ]
  },
  {
   "cell_type": "markdown",
   "metadata": {},
   "source": [
    "**Two Lives**\n",
    "\n",
    "Given $q_x$ and $q_y$ and benefits\n",
    "\n",
    "States are $(\\star,\\star)$, $(\\dagger,\\star)$, $(\\star,\\dagger)$, $(\\dagger,\\dagger)$\n",
    "\n",
    "1) Mortality Benfits: $(\\star,\\star) \\to (\\dagger,\\star)$ (3 types) and $(\\star,\\dagger) \\to (\\dagger,\\dagger)$ (2 types): Benefits $B_{(\\star,\\star) \\to (\\dagger,\\star)}$\n",
    "\n",
    "2) Survival Benefits: at maturity the policy is in state  $(\\star,\\star)$, $(\\dagger,\\star)$, $(\\star,\\dagger)$ (3 types): Benefits $M_{(\\star,\\star)}$\n",
    "\n",
    "3) Annuities: $(\\star,\\star)$, $(\\dagger,\\star)$, $(\\star,\\dagger)$ (3 types) Benefits $R_{(\\star,\\star)}$\n",
    "\n",
    "We have three types of reserves\n",
    "\n",
    " $V_{(\\star,\\star)}$, $V_{(\\dagger,\\star)}$, $V_{(\\star,\\dagger)}$ (3 types)\n",
    " \n",
    "\n",
    "We already now the recursion for states where one person is already death. Example $x$ passed away and we are in the state $ (\\dagger,\\star)$\n",
    " \n",
    "\\begin{eqnarray*}\n",
    "V(y) & = & R_{(\\dagger,\\star)}(y) + q_y \\, v \\, B_{(\\dagger,\\star) \\to (\\dagger,\\dagger)}(y) + (1- q_y )\\, v \\, V(y+1)\n",
    "\\end{eqnarray*}\n",
    "\n",
    "For the state $(\\star,\\star)$ we have the following recursion\n",
    "\n",
    "\\begin{eqnarray*}\n",
    "V_{(\\star,\\star)}(x,y) = && R_{(\\star,\\star)} (x,y)  \\\\\n",
    " &+& (1-q_x) \\, (1-q_y) \\, v \\times \\{V(x+1, y+1)\\} \\\\\n",
    " &+& q_x \\, (1-q_y) \\, v \\times \\{B_{(\\star,\\star) \\to (\\dagger,\\star)}(x,y) + V(y+1)\\} \\\\\n",
    " &+& (1-q_x) \\, q_y \\, v \\times \\{B_{(\\star,\\star) \\to (\\star, \\dagger)}(x,y) + V(x+1)\\} \\\\\n",
    " &+& q_x \\, q_y \\, v \\times \\{B_{(\\star,\\star) \\to (\\dagger, \\dagger)}(x,y)\\} \\\\\n",
    "\\end{eqnarray*}\n",
    "\n",
    "These are the insurer benefits, for mathematical reserves we need consider the premiums as negative annuities"
   ]
  },
  {
   "cell_type": "code",
   "execution_count": 4,
   "metadata": {},
   "outputs": [],
   "source": [
    "import numpy as np\n",
    "import matplotlib.pyplot as plt\n",
    "\n",
    "class Benefit2:\n",
    "    def __init__(self,Qx,i=0.02,omega=110,t0 = 2020):\n",
    "        self.dIrate = i\n",
    "        self.nOmega = omega\n",
    "        self.psymB1 = ZeroBenefit # Death benefit for life x when y death\n",
    "        self.psymB2 = ZeroBenefit # Death benefir for life y\n",
    "        self.psymB12 = ZeroBenefit # Death Benefit for life x,y together joint status ends\n",
    "        self.psymR1 = ZeroBenefit # Annuity x (y is death)\n",
    "        self.psymR2 = ZeroBenefit # Annuity y (x is death) [Widow pension]\n",
    "        self.psymR12 = ZeroBenefit # Joint Annuity\n",
    "        self.psymM1 = ZeroBenefit # Maturity benefit (*t)\n",
    "        self.psymM2 = ZeroBenefit # Maturity benefit (t*)\n",
    "        self.psymM12 = ZeroBenefit # Joint Maturity Benefit ( nE_{x:y})\n",
    "        self.psymQx = Qx\n",
    "        self.dV = 1. /(1+self.dIrate)\n",
    "        self.nT0 = t0\n",
    "        \n",
    "        \n",
    "    def CalcPV(self,gender1,gender2,x,deltaxy, s,param=[],bTrace=False):\n",
    "        n  = s-x\n",
    "        PV1 =0 # for state (*t)\n",
    "        PV2 =0 # for state (t*)\n",
    "        PV12=0 # Both alive (**)\n",
    "        for i in range(s-1,x-1,-1):\n",
    "            t = self.nT0 + i - x\n",
    "            iy = i + deltaxy\n",
    "            qx = self.psymQx(gender1,i,t)\n",
    "            qy = self.psymQx(gender2,iy,t)\n",
    "            px = 1. - qx\n",
    "            py = 1. - qy\n",
    "            if bTrace:\n",
    "                print(\"------\")\n",
    "                print(\"t,x,y\",t,i,iy)\n",
    "                print(\"qx,qy,px,py\",qx,qy,px,py)\n",
    "                print(\"Rex EoP PV1 PV2 PV12\",PV1,PV2,PV12)\n",
    "            # state (12) <--> both are alive (*,*)\n",
    "            # state (1) <--> (*t)\n",
    "            # state (2) <--> (t*)\n",
    "            PV12 = self.psymR12(i,param=param) + px * py * self.dV * PV12\n",
    "            PV12 += px * qy * self.dV * (self.psymB12(i,param=param) + PV1)\n",
    "            PV12 += py * qx * self.dV * (self.psymB12(i,param=param) + PV2)\n",
    "            PV12 += qx * qy * self.dV * (self.psymB12(i,param=param))\n",
    "            PV1 = self.psymR1(i,param=param) + qx * self.dV * self.psymB1(i,param=param) + px * self.dV * PV1\n",
    "            PV2 = self.psymR2(i,param=param) + qy * self.dV * self.psymB2(i,param=param) + py * self.dV * PV2\n",
    "            if i==s-1:\n",
    "                PV1 += px * self.dV * self.psymM1(s,param=param)\n",
    "                PV2 += py * self.dV * self.psymM2(s,param=param)\n",
    "                PV12 += px * py * self.dV * self.psymM12(s,param=param)\n",
    "\n",
    "            if bTrace:\n",
    "                print(\"Res BoP PV1 PV2 PV12\",PV1,PV2,PV12)\n",
    "                print(\"------\")\n",
    "            \n",
    "        return(np.array([PV1,PV2,PV12]))\n",
    "    \n",
    "\n",
    "    \n",
    "class DK2:\n",
    "    def __init__(self,Qx, i=0.02,omega=110,t0 = 2020):\n",
    "        self.dIrate = i\n",
    "        self.nOmega = omega\n",
    "        self.psymB1 = ZeroBenefit\n",
    "        self.psymB2 = ZeroBenefit\n",
    "        self.psymB12 = ZeroBenefit\n",
    "        self.psymR1 = ZeroBenefit\n",
    "        self.psymR2 = ZeroBenefit\n",
    "        self.psymR12 = ZeroBenefit\n",
    "        self.psymM1 = ZeroBenefit\n",
    "        self.psymM2 = ZeroBenefit\n",
    "        self.psymM12 = ZeroBenefit\n",
    "        self.psymP1 = ZeroBenefit\n",
    "        self.psymP2 = ZeroBenefit\n",
    "        self.psymP12 = ZeroBenefit\n",
    "        self.dPrem = None\n",
    "        self.psymQx = Qx\n",
    "        self.dV = 1. /(1+self.dIrate)\n",
    "        self.nT0 = t0\n",
    "        self.psymLeist = Benefit2(Qx,i=i,omega=omega,t0 = t0)\n",
    "        self.psymPraem = Benefit2(Qx,i=i,omega=omega,t0 = t0)\n",
    "        self.nSL = None\n",
    "        self.nSP = None\n",
    "        self.nDeltaXy = None\n",
    "        self.nGender1 = None\n",
    "        self.nGender2 = None\n",
    "    \n",
    "    def CalcPremium(self,gender1, gender2, x, y, sL, sP,param=[]):\n",
    "        self.nSL = sL\n",
    "        self.nSP = sP\n",
    "        self.nDeltaXy = y - x\n",
    "        self.nGender1 = gender1\n",
    "        self.nGender2 = gender2\n",
    "        self.psymLeist.psymB1 = self.psymB1\n",
    "        self.psymLeist.psymB2 = self.psymB2\n",
    "        self.psymLeist.psymB12 = self.psymB12\n",
    "        self.psymLeist.psymR1 = self.psymR1\n",
    "        self.psymLeist.psymR2 = self.psymR2\n",
    "        self.psymLeist.psymR12 = self.psymR12\n",
    "        self.psymLeist.psymM1 = self.psymM1\n",
    "        self.psymLeist.psymM2 = self.psymM2\n",
    "        self.psymLeist.psymM12 = self.psymM12\n",
    "        self.psymPraem.psymR1 = self.psymP1\n",
    "        self.psymPraem.psymR2 = self.psymP2\n",
    "        self.psymPraem.psymR12 = self.psymP12\n",
    "        # gender1,gender2,x,deltaxy, s,param=[]\n",
    "        self.dPrem = self.psymLeist.CalcPV(self.nGender1,self.nGender2,x,self.nDeltaXy,self.nSL,param=param)[2]/self.psymPraem.CalcPV(self.nGender1,self.nGender2,x,self.nDeltaXy,self.nSP,param=param)[2]\n",
    "        print(self.psymLeist.CalcPV(self.nGender1,self.nGender2,x,self.nDeltaXy,self.nSL,param=param),self.psymPraem.CalcPV(self.nGender1,self.nGender2,x,self.nDeltaXy,self.nSP,param=param))\n",
    "        print(\"Premium =\",self.dPrem)\n",
    "    \n",
    "    def CalcPV(self,x,param=[]):\n",
    "        PVL = self.psymLeist.CalcPV(self.nGender1,self.nGender2,x,self.nDeltaXy,self.nSL,param=param)\n",
    "        PVP = self.psymPraem.CalcPV(self.nGender1,self.nGender2,x,self.nDeltaXy,self.nSP,param=param) * self.dPrem\n",
    "        PV = PVL - PVP\n",
    "        return([PVL, PVP, PV])\n",
    "    \n"
   ]
  },
  {
   "cell_type": "markdown",
   "metadata": {},
   "source": [
    "***Widdow Pension***\n",
    "We consider a widdows pension (Life 2) and assume that x=30, y = 27 and $\\omega = 110$.\n",
    "We would like to calculate the premium assuming that the premium is due until $s_x=65$ in case both are alive, ie ony P12 is nontrivial. We want to have graphs for the mathematical reserve in case both alive PV12 and in case the man has died.\n",
    "\n",
    "$\\ddot{a}_{x|y}$"
   ]
  },
  {
   "cell_type": "code",
   "execution_count": 5,
   "metadata": {},
   "outputs": [
    {
     "name": "stdout",
     "output_type": "stream",
     "text": [
      "Test Witenrente\n",
      "[ 0.         33.75920913  4.48533172] [ 0.         0.        24.1491775]\n",
      "Premium = 0.18573434746302214\n"
     ]
    },
    {
     "data": {
      "image/png": "[encoded data removed]",
      "text/plain": [
       "<Figure size 432x288 with 1 Axes>"
      ]
     },
     "metadata": {
      "needs_background": "light"
     },
     "output_type": "display_data"
    },
    {
     "data": {
      "image/png": "[encoded data removed]",
      "text/plain": [
       "<Figure size 432x288 with 1 Axes>"
      ]
     },
     "metadata": {
      "needs_background": "light"
     },
     "output_type": "display_data"
    }
   ],
   "source": [
    "print(\"Test Witenrente\")\n",
    "\n",
    "w = DK2(QxEK95)\n",
    "w.psymR2 = ConstantBenefit\n",
    "w.psymP12 = ConstantBenefit\n",
    "gender1 = 0\n",
    "gender2 = 1\n",
    "x = 30\n",
    "y = 27\n",
    "sL = 110\n",
    "sP = 65\n",
    "w.CalcPremium(gender1, gender2, x, y, sL, sP,param=[])\n",
    "\n",
    "#w.psymLeist.CalcPV(gender1,gender2,x,y-x, sL,param=[],bTrace=True)\n",
    "\n",
    "xPlot =[]\n",
    "y12T=[]\n",
    "y12P=[]\n",
    "y12L=[]\n",
    "y2=[]\n",
    "\n",
    "for i in range(x,110):\n",
    "    [PVL, PVP, PV] = w.CalcPV(i,param=[])\n",
    "    xPlot.append(i)\n",
    "    y12T.append(PV[2])\n",
    "    y12L.append(PVL[2])\n",
    "    y12P.append(-PVP[2])\n",
    "    y2.append(PV[1])\n",
    "\n",
    "plt.figure(1)\n",
    "plt.plot(xPlot,y12T,\"ro\",xPlot,y12P,xPlot,y12L)\n",
    "plt.grid(True)\n",
    "\n",
    "plt.figure(2)\n",
    "plt.plot(xPlot,y2,\"b+\")\n",
    "plt.grid(True)"
   ]
  },
  {
   "cell_type": "markdown",
   "metadata": {},
   "source": [
    "Now the same for a symetrical widdow pension $\\ddot{a}_{xy}^1 =\n",
    "\\ddot{a}_{x|y} + \\ddot{a}_{y|x}$"
   ]
  },
  {
   "cell_type": "code",
   "execution_count": 6,
   "metadata": {},
   "outputs": [
    {
     "name": "stdout",
     "output_type": "stream",
     "text": [
      "Test Witenrente symetrical\n",
      "[30.918349   33.75920913  6.12980332] [ 0.         0.        24.1491775]\n",
      "Premium = 0.2538307284649422\n"
     ]
    },
    {
     "data": {
      "image/png": "[encoded data removed]",
      "text/plain": [
       "<Figure size 432x288 with 1 Axes>"
      ]
     },
     "metadata": {
      "needs_background": "light"
     },
     "output_type": "display_data"
    },
    {
     "data": {
      "image/png": "[encoded data removed]",
      "text/plain": [
       "<Figure size 432x288 with 1 Axes>"
      ]
     },
     "metadata": {
      "needs_background": "light"
     },
     "output_type": "display_data"
    }
   ],
   "source": [
    "print(\"Test Witenrente symetrical\")\n",
    "\n",
    "ws = DK2(QxEK95)\n",
    "ws.psymR1 = ConstantBenefit\n",
    "ws.psymR2 = ConstantBenefit\n",
    "ws.psymP12 = ConstantBenefit\n",
    "gender1 = 0\n",
    "gender2 = 1\n",
    "x = 30\n",
    "y = 27\n",
    "sL = 110\n",
    "sP = 65\n",
    "ws.CalcPremium(gender1, gender2, x, y, sL, sP,param=[])\n",
    "\n",
    "xPlot =[]\n",
    "y12T=[]\n",
    "y12P=[]\n",
    "y12L=[]\n",
    "y1=[]\n",
    "y2=[]\n",
    "\n",
    "\n",
    "for i in range(x,110):\n",
    "    [PVL, PVP, PV] = ws.CalcPV(i,param=[])\n",
    "    xPlot.append(i)\n",
    "    y12T.append(PV[2])\n",
    "    y12L.append(PVL[2])\n",
    "    y12P.append(-PVP[2])\n",
    "    y1.append(PV[0])\n",
    "    y2.append(PV[1])\n",
    "\n",
    "plt.figure(1)\n",
    "plt.plot(xPlot,y12T,\"ro\",xPlot,y12P,xPlot,y12L)\n",
    "plt.grid(True)\n",
    "\n",
    "plt.figure(2)\n",
    "plt.plot(xPlot,y1,\"g-\",xPlot,y2,\"b+\")\n",
    "plt.grid(True)"
   ]
  },
  {
   "cell_type": "markdown",
   "metadata": {},
   "source": [
    "***Mixed Endowment on joint life status***\n",
    "We consider a $A_{xy:n}$ and assume that x=30, y = 27 and s = 65.\n",
    "We would like to calculate the p\n",
    "remium assuming that the premium is due until $s=65$.\n",
    "In this case we have B12=M12=constant and P12=constant, rest equal 0. \n",
    "\n"
   ]
  },
  {
   "cell_type": "code",
   "execution_count": 7,
   "metadata": {},
   "outputs": [
    {
     "name": "stdout",
     "output_type": "stream",
     "text": [
      "Joint Life Endowment\n",
      "[0.         0.         0.50984697] [ 0.          0.         24.99780441]\n",
      "Premium = 0.020395670120905162\n"
     ]
    },
    {
     "data": {
      "image/png": "[encoded data removed]",
      "text/plain": [
       "<Figure size 432x288 with 1 Axes>"
      ]
     },
     "metadata": {
      "needs_background": "light"
     },
     "output_type": "display_data"
    }
   ],
   "source": [
    "print(\"Joint Life Endowment\")\n",
    "\n",
    "axy = DK2(Qx)\n",
    "axy.psymM12 = ConstantBenefit\n",
    "axy.psymB12 = ConstantBenefit\n",
    "axy.psymP12 = ConstantBenefit\n",
    "gender1 = 0\n",
    "gender2 = 1\n",
    "x = 30\n",
    "y = 27\n",
    "sL = 65\n",
    "sP = 65\n",
    "axy.CalcPremium(gender1, gender2, x, y, sL, sP,param=[])\n",
    "\n",
    "xPlot =[]\n",
    "y12T=[]\n",
    "y12P=[]\n",
    "y12L=[]\n",
    "\n",
    "for i in range(x,sL):\n",
    "    [PVL, PVP, PV] = axy.CalcPV(i,param=[])\n",
    "    xPlot.append(i)\n",
    "    y12T.append(PV[2])\n",
    "    y12L.append(PVL[2])\n",
    "    y12P.append(-PVP[2])\n",
    " \n",
    "plt.figure(3)\n",
    "plt.plot(xPlot,y12T,\"ro\",xPlot,y12P,xPlot,y12L)\n",
    "plt.grid(True)"
   ]
  },
  {
   "cell_type": "markdown",
   "metadata": {},
   "source": [
    "Now the same for the last survivor status $A_{\\bar{xy}:n}$:\n"
   ]
  },
  {
   "cell_type": "code",
   "execution_count": 8,
   "metadata": {},
   "outputs": [
    {
     "name": "stdout",
     "output_type": "stream",
     "text": [
      "Joint Life Endowment\n",
      "[0.50827915 0.50165282 0.49673996] [25.07776312 25.41570593 25.49566465]\n",
      "Premium = 0.019483310679690547\n"
     ]
    },
    {
     "data": {
      "image/png": "[encoded data removed]",
      "text/plain": [
       "<Figure size 432x288 with 1 Axes>"
      ]
     },
     "metadata": {
      "needs_background": "light"
     },
     "output_type": "display_data"
    }
   ],
   "source": [
    "print(\"Joint Life Endowment\")\n",
    "\n",
    "axybar = DK2(Qx)\n",
    "axybar.psymM12 = ConstantBenefit\n",
    "axybar.psymM2 = ConstantBenefit\n",
    "axybar.psymM1 = ConstantBenefit\n",
    "axybar.psymB12 = ZeroBenefit\n",
    "axybar.psymB1 = ConstantBenefit\n",
    "axybar.psymB2 = ConstantBenefit\n",
    "axybar.psymP12 = ConstantBenefit\n",
    "axybar.psymP1 = ConstantBenefit\n",
    "axybar.psymP2 = ConstantBenefit\n",
    "gender1 = 0\n",
    "gender2 = 1\n",
    "x = 30\n",
    "y = 27\n",
    "sL = 65\n",
    "sP = 65\n",
    "axybar.CalcPremium(gender1, gender2, x, y, sL, sP,param=[])\n",
    "\n",
    "xPlot =[]\n",
    "y12T=[]\n",
    "y12P=[]\n",
    "y12L=[]\n",
    "\n",
    "for i in range(x,sL):\n",
    "    [PVL, PVP, PV] = axybar.CalcPV(i,param=[])\n",
    "    xPlot.append(i)\n",
    "    y12T.append(PV[2])\n",
    "    y12L.append(PVL[2])\n",
    "    y12P.append(-PVP[2])\n",
    " \n",
    "plt.figure(4)\n",
    "plt.plot(xPlot,y12T,\"ro\",xPlot,y12P,xPlot,y12L)\n",
    "plt.grid(True)"
   ]
  },
  {
   "cell_type": "markdown",
   "metadata": {},
   "source": [
    "Finally we look a a term insurance on the joint life until s=80 with premium payment until 65. $A_{xy:n}^1$"
   ]
  },
  {
   "cell_type": "code",
   "execution_count": 8,
   "metadata": {},
   "outputs": [
    {
     "name": "stdout",
     "output_type": "stream",
     "text": [
      "Term Insurance\n",
      "[0.         0.         0.12996108] [ 0.          0.         24.99780441]\n",
      "Premium = 0.005198899929322986\n"
     ]
    },
    {
     "data": {
      "image/png": "[encoded data removed]",
      "text/plain": [
       "<Figure size 432x288 with 1 Axes>"
      ]
     },
     "metadata": {
      "needs_background": "light"
     },
     "output_type": "display_data"
    }
   ],
   "source": [
    "print(\"Term Insurance\")\n",
    "\n",
    "axy1 = DK2(Qx)\n",
    "axy1.psymB12 = ConstantBenefit\n",
    "axy1.psymP12 = ConstantBenefit\n",
    "gender1 = 0\n",
    "gender2 = 1\n",
    "x = 30\n",
    "y = 27\n",
    "sL = 80\n",
    "sP = 65\n",
    "axy1.CalcPremium(gender1, gender2, x, y, sL, sP,param=[])\n",
    "\n",
    "xPlot =[]\n",
    "y12T=[]\n",
    "y12P=[]\n",
    "y12L=[]\n",
    "\n",
    "for i in range(x,sL):\n",
    "    [PVL, PVP, PV] = axy1.CalcPV(i,param=[])\n",
    "    xPlot.append(i)\n",
    "    y12T.append(PV[2])\n",
    "    y12L.append(PVL[2])\n",
    "    y12P.append(-PVP[2])\n",
    " \n",
    "plt.figure(4)\n",
    "plt.plot(xPlot,y12T,\"ro\",xPlot,y12P,xPlot,y12L)\n",
    "plt.grid(True)"
   ]
  },
  {
   "cell_type": "code",
   "execution_count": null,
   "metadata": {},
   "outputs": [],
   "source": []
  }
 ],
 "metadata": {
  "kernelspec": {
   "display_name": "Python 3 (ipykernel)",
   "language": "python",
   "name": "python3"
  },
  "language_info": {
   "codemirror_mode": {
    "name": "ipython",
    "version": 3
   },
   "file_extension": ".py",
   "mimetype": "text/x-python",
   "name": "python",
   "nbconvert_exporter": "python",
   "pygments_lexer": "ipython3",
   "version": "3.9.7"
  }
 },
 "nbformat": 4,
 "nbformat_minor": 4
}
